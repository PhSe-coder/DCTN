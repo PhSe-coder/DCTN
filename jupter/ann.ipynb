{
 "cells": [
  {
   "cell_type": "code",
   "execution_count": 1,
   "metadata": {},
   "outputs": [
    {
     "name": "stderr",
     "output_type": "stream",
     "text": [
      "/root/miniconda3/envs/venv/lib/python3.10/site-packages/tqdm/auto.py:22: TqdmWarning: IProgress not found. Please update jupyter and ipywidgets. See https://ipywidgets.readthedocs.io/en/stable/user_install.html\n",
      "  from .autonotebook import tqdm as notebook_tqdm\n",
      "2023-05-19 18:45:40 INFO: Loading these models for language: en (English):\n",
      "========================\n",
      "| Processor | Package  |\n",
      "------------------------\n",
      "| tokenize  | combined |\n",
      "| pos       | combined |\n",
      "| lemma     | combined |\n",
      "| depparse  | combined |\n",
      "========================\n",
      "\n",
      "2023-05-19 18:45:40 INFO: Using device: cuda\n",
      "2023-05-19 18:45:40 INFO: Loading: tokenize\n",
      "2023-05-19 18:45:40 INFO: Loading: pos\n",
      "2023-05-19 18:45:44 INFO: Loading: lemma\n",
      "2023-05-19 18:45:44 INFO: Loading: depparse\n",
      "2023-05-19 18:45:44 INFO: Done loading processors!\n",
      "device: 100%|██████████| 2557/2557 [00:00<00:00, 9351.22it/s]\n",
      "laptop: 100%|██████████| 3045/3045 [00:00<00:00, 10562.13it/s]\n",
      "rest: 100%|██████████| 3877/3877 [00:00<00:00, 11257.94it/s]\n",
      "service: 100%|██████████| 1492/1492 [00:00<00:00, 8520.99it/s]\n"
     ]
    }
   ],
   "source": [
    "import sys\n",
    "\n",
    "sys.path.append(\"../\")\n",
    "import os.path as osp\n",
    "from stanza_utils import *\n",
    "from glob import glob\n",
    "from tqdm import tqdm\n",
    "\n",
    "pos, dep, tag = {}, {}, {}\n",
    "for file in glob(\"../data/**.train.txt\"):\n",
    "    domain = osp.basename(file).split('.')[0]\n",
    "    pos_list, dep_list, tag_list = [], [], []\n",
    "    lines = open(file, \"r\").read().splitlines()\n",
    "    sentences_list = annotation_plus([line.split(\"***\")[0] for line in lines])\n",
    "    label_list = [line.split(\"***\")[1] for line in lines]\n",
    "    for sentence, labels in tqdm(zip(sentences_list, label_list), total=len(lines), desc=domain):\n",
    "        for token, label in zip(sentence.to_dict(), labels.split(' ')):\n",
    "            pos_list.append(token['xpos'])\n",
    "            dep_list.append(token['deprel'])\n",
    "            tag_list.append(label)\n",
    "    pos[domain] = pos_list\n",
    "    dep[domain] = dep_list\n",
    "    tag[domain] = tag_list"
   ]
  },
  {
   "cell_type": "code",
   "execution_count": 12,
   "metadata": {},
   "outputs": [],
   "source": [
    "import pandas as pd\n",
    "from pandas import ExcelWriter\n",
    " \n",
    "domains = pos.keys()\n",
    "total = 0\n",
    "\n",
    "\n",
    "def func(x: pd.Series):\n",
    "    if x.name == \"tag\": return len(x[x != 'O']) * 1.0 / len(x)\n",
    "    else: return len(x[x != 'O']) * 1.0 / total\n",
    "\n",
    "\n",
    "writer = ExcelWriter(\"./annotation.xlsx\")\n",
    "pos_writer = ExcelWriter(\"./pos.xlsx\")\n",
    "dep_writer = ExcelWriter(\"./dep.xlsx\")\n",
    "for i, domain in enumerate(domains):\n",
    "    data = pd.DataFrame({\"pos\": pos[domain], \"dep\": dep[domain], \"tag\": tag[domain]})\n",
    "    total = len(data[data['tag'] != 'O'])\n",
    "    data['tag_count'] = data['tag'].copy()\n",
    "    groups = data.groupby([\"pos\", \"dep\"], group_keys=False)\n",
    "    df = groups.agg(func).sort_values([\"tag_count\", \"tag\"], ascending=False)\n",
    "    df.to_excel(writer, sheet_name=domain)\n",
    "    pos_df = df.groupby(\"pos\").agg({\n",
    "        \"tag_count\": \"sum\"\n",
    "    }).sort_values(\"tag_count\", ascending=False).head(15)\n",
    "    pos_df.to_excel(pos_writer, sheet_name=domain)\n",
    "    dep_df = df.groupby(\"dep\").agg({\n",
    "        \"tag_count\": \"sum\"\n",
    "    }).sort_values(\"tag_count\", ascending=False).head(15)\n",
    "    dep_df.to_excel(dep_writer, sheet_name=domain)\n",
    "writer.close()\n",
    "pos_writer.close()\n",
    "dep_writer.close()"
   ]
  }
 ],
 "metadata": {
  "kernelspec": {
   "display_name": "venv",
   "language": "python",
   "name": "python3"
  },
  "language_info": {
   "codemirror_mode": {
    "name": "ipython",
    "version": 3
   },
   "file_extension": ".py",
   "mimetype": "text/x-python",
   "name": "python",
   "nbconvert_exporter": "python",
   "pygments_lexer": "ipython3",
   "version": "3.10.0"
  },
  "orig_nbformat": 4
 },
 "nbformat": 4,
 "nbformat_minor": 2
}
